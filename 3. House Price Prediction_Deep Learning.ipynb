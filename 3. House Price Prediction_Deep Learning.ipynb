{
 "cells": [
  {
   "cell_type": "markdown",
   "metadata": {},
   "source": [
    "# Coding Companion for Intuitive Deep Learning Part 1 (Annotated)"
   ]
  },
  {
   "cell_type": "markdown",
   "metadata": {},
   "source": [
    "In this notebook, we'll go through the code for the coding companion for Intuitive Deep Learning Part 1 ([Part 1a](https://medium.com/intuitive-deep-learning/intuitive-deep-learning-part-1a-introduction-to-neural-networks-d7b16ebf6b99), [Part 1b](https://medium.com/intuitive-deep-learning/intuitive-deep-learning-part-1b-introduction-to-neural-networks-8565d97ddd2d)) to create your very first neural network to predict whether the house price is below or above median value. We will go through the following in this notebook:\n",
    "\n",
    "- Exploring and Processing the Data\n",
    "- Building and Training our Neural Network\n",
    "- Visualizing Loss and Accuracy\n",
    "- Adding Regularization to our Neural Network\n",
    "\n",
    "The code is annotated throughout the notebook and you simply need to download the dataset [here](https://drive.google.com/file/d/1GfvKA0qznNVknghV4botnNxyH-KvODOC/view), put the dataset in the same folder as this notebook and run the code cells below. Note that the results you get might differ slightly from the blogpost as there is a degree of randomness in the way we split our dataset as well as the initialization of our neural network."
   ]
  },
  {
   "cell_type": "markdown",
   "metadata": {},
   "source": [
    "# Exploring and Processing the Data"
   ]
  },
  {
   "cell_type": "markdown",
   "metadata": {},
   "source": [
    "We first have to read in the CSV file that we've been given. We'll use a package called pandas for that:"
   ]
  },
  {
   "cell_type": "code",
   "execution_count": 3,
   "metadata": {},
   "outputs": [],
   "source": [
    "import pandas as pd"
   ]
  },
  {
   "cell_type": "code",
   "execution_count": 4,
   "metadata": {},
   "outputs": [],
   "source": [
    "df = pd.read_csv('https://raw.githubusercontent.com/RestlessMystic/MITSWorkshop/master/data/housepricedata.csv')"
   ]
  },
  {
   "cell_type": "code",
   "execution_count": 5,
   "metadata": {},
   "outputs": [
    {
     "data": {
      "text/html": [
       "<div>\n",
       "<style scoped>\n",
       "    .dataframe tbody tr th:only-of-type {\n",
       "        vertical-align: middle;\n",
       "    }\n",
       "\n",
       "    .dataframe tbody tr th {\n",
       "        vertical-align: top;\n",
       "    }\n",
       "\n",
       "    .dataframe thead th {\n",
       "        text-align: right;\n",
       "    }\n",
       "</style>\n",
       "<table border=\"1\" class=\"dataframe\">\n",
       "  <thead>\n",
       "    <tr style=\"text-align: right;\">\n",
       "      <th></th>\n",
       "      <th>LotArea</th>\n",
       "      <th>OverallQual</th>\n",
       "      <th>OverallCond</th>\n",
       "      <th>TotalBsmtSF</th>\n",
       "      <th>FullBath</th>\n",
       "      <th>HalfBath</th>\n",
       "      <th>BedroomAbvGr</th>\n",
       "      <th>TotRmsAbvGrd</th>\n",
       "      <th>Fireplaces</th>\n",
       "      <th>GarageArea</th>\n",
       "      <th>AboveMedianPrice</th>\n",
       "    </tr>\n",
       "  </thead>\n",
       "  <tbody>\n",
       "    <tr>\n",
       "      <th>0</th>\n",
       "      <td>8450</td>\n",
       "      <td>7</td>\n",
       "      <td>5</td>\n",
       "      <td>856</td>\n",
       "      <td>2</td>\n",
       "      <td>1</td>\n",
       "      <td>3</td>\n",
       "      <td>8</td>\n",
       "      <td>0</td>\n",
       "      <td>548</td>\n",
       "      <td>1</td>\n",
       "    </tr>\n",
       "    <tr>\n",
       "      <th>1</th>\n",
       "      <td>9600</td>\n",
       "      <td>6</td>\n",
       "      <td>8</td>\n",
       "      <td>1262</td>\n",
       "      <td>2</td>\n",
       "      <td>0</td>\n",
       "      <td>3</td>\n",
       "      <td>6</td>\n",
       "      <td>1</td>\n",
       "      <td>460</td>\n",
       "      <td>1</td>\n",
       "    </tr>\n",
       "    <tr>\n",
       "      <th>2</th>\n",
       "      <td>11250</td>\n",
       "      <td>7</td>\n",
       "      <td>5</td>\n",
       "      <td>920</td>\n",
       "      <td>2</td>\n",
       "      <td>1</td>\n",
       "      <td>3</td>\n",
       "      <td>6</td>\n",
       "      <td>1</td>\n",
       "      <td>608</td>\n",
       "      <td>1</td>\n",
       "    </tr>\n",
       "    <tr>\n",
       "      <th>3</th>\n",
       "      <td>9550</td>\n",
       "      <td>7</td>\n",
       "      <td>5</td>\n",
       "      <td>756</td>\n",
       "      <td>1</td>\n",
       "      <td>0</td>\n",
       "      <td>3</td>\n",
       "      <td>7</td>\n",
       "      <td>1</td>\n",
       "      <td>642</td>\n",
       "      <td>0</td>\n",
       "    </tr>\n",
       "    <tr>\n",
       "      <th>4</th>\n",
       "      <td>14260</td>\n",
       "      <td>8</td>\n",
       "      <td>5</td>\n",
       "      <td>1145</td>\n",
       "      <td>2</td>\n",
       "      <td>1</td>\n",
       "      <td>4</td>\n",
       "      <td>9</td>\n",
       "      <td>1</td>\n",
       "      <td>836</td>\n",
       "      <td>1</td>\n",
       "    </tr>\n",
       "  </tbody>\n",
       "</table>\n",
       "</div>"
      ],
      "text/plain": [
       "   LotArea  OverallQual  OverallCond  TotalBsmtSF  FullBath  HalfBath  \\\n",
       "0     8450            7            5          856         2         1   \n",
       "1     9600            6            8         1262         2         0   \n",
       "2    11250            7            5          920         2         1   \n",
       "3     9550            7            5          756         1         0   \n",
       "4    14260            8            5         1145         2         1   \n",
       "\n",
       "   BedroomAbvGr  TotRmsAbvGrd  Fireplaces  GarageArea  AboveMedianPrice  \n",
       "0             3             8           0         548                 1  \n",
       "1             3             6           1         460                 1  \n",
       "2             3             6           1         608                 1  \n",
       "3             3             7           1         642                 0  \n",
       "4             4             9           1         836                 1  "
      ]
     },
     "execution_count": 5,
     "metadata": {},
     "output_type": "execute_result"
    }
   ],
   "source": [
    "df.head()"
   ]
  },
  {
   "cell_type": "markdown",
   "metadata": {},
   "source": [
    "The dataset that we have now is in what we call a pandas dataframe. To convert it to an array, simply access its values:"
   ]
  },
  {
   "cell_type": "code",
   "execution_count": 6,
   "metadata": {},
   "outputs": [],
   "source": [
    "dataset = df.values"
   ]
  },
  {
   "cell_type": "code",
   "execution_count": 7,
   "metadata": {},
   "outputs": [
    {
     "data": {
      "text/plain": [
       "array([[ 8450,     7,     5, ...,     0,   548,     1],\n",
       "       [ 9600,     6,     8, ...,     1,   460,     1],\n",
       "       [11250,     7,     5, ...,     1,   608,     1],\n",
       "       ...,\n",
       "       [ 9042,     7,     9, ...,     2,   252,     1],\n",
       "       [ 9717,     5,     6, ...,     0,   240,     0],\n",
       "       [ 9937,     5,     6, ...,     0,   276,     0]], dtype=int64)"
      ]
     },
     "execution_count": 7,
     "metadata": {},
     "output_type": "execute_result"
    }
   ],
   "source": [
    "dataset"
   ]
  },
  {
   "cell_type": "markdown",
   "metadata": {},
   "source": [
    "Now, we split the dataset into our input features and the label we wish to predict."
   ]
  },
  {
   "cell_type": "code",
   "execution_count": 8,
   "metadata": {},
   "outputs": [],
   "source": [
    "X = dataset[:,0:10]\n",
    "Y = dataset[:,10]"
   ]
  },
  {
   "cell_type": "markdown",
   "metadata": {},
   "source": [
    "Normalizing our data is very important, as we want the input features to be on the same order of magnitude to make our training easier. We'll use a min-max scaler from scikit-learn which scales our data to be between 0 and 1."
   ]
  },
  {
   "cell_type": "code",
   "execution_count": 9,
   "metadata": {},
   "outputs": [],
   "source": [
    "from sklearn import preprocessing"
   ]
  },
  {
   "cell_type": "code",
   "execution_count": 10,
   "metadata": {
    "scrolled": true
   },
   "outputs": [],
   "source": [
    "min_max_scaler = preprocessing.MinMaxScaler()\n",
    "X_scale = min_max_scaler.fit_transform(X)"
   ]
  },
  {
   "cell_type": "code",
   "execution_count": 11,
   "metadata": {},
   "outputs": [
    {
     "data": {
      "text/plain": [
       "array([[0.0334198 , 0.66666667, 0.5       , ..., 0.5       , 0.        ,\n",
       "        0.3864598 ],\n",
       "       [0.03879502, 0.55555556, 0.875     , ..., 0.33333333, 0.33333333,\n",
       "        0.32440056],\n",
       "       [0.04650728, 0.66666667, 0.5       , ..., 0.33333333, 0.33333333,\n",
       "        0.42877292],\n",
       "       ...,\n",
       "       [0.03618687, 0.66666667, 1.        , ..., 0.58333333, 0.66666667,\n",
       "        0.17771509],\n",
       "       [0.03934189, 0.44444444, 0.625     , ..., 0.25      , 0.        ,\n",
       "        0.16925247],\n",
       "       [0.04037019, 0.44444444, 0.625     , ..., 0.33333333, 0.        ,\n",
       "        0.19464034]])"
      ]
     },
     "execution_count": 11,
     "metadata": {},
     "output_type": "execute_result"
    }
   ],
   "source": [
    "X_scale"
   ]
  },
  {
   "cell_type": "markdown",
   "metadata": {},
   "source": [
    "Lastly, we wish to set aside some parts of our dataset for a validation set and a test set. We use the function train_test_split from scikit-learn to do that."
   ]
  },
  {
   "cell_type": "code",
   "execution_count": 12,
   "metadata": {},
   "outputs": [],
   "source": [
    "from sklearn.model_selection import train_test_split"
   ]
  },
  {
   "cell_type": "code",
   "execution_count": 16,
   "metadata": {},
   "outputs": [],
   "source": [
    "X_train, X_val_and_test, Y_train, Y_val_and_test = train_test_split(X_scale, Y, test_size=0.3)"
   ]
  },
  {
   "cell_type": "code",
   "execution_count": 17,
   "metadata": {},
   "outputs": [],
   "source": [
    "X_val, X_test, Y_val, Y_test = train_test_split(X_val_and_test, Y_val_and_test, test_size=0.5)"
   ]
  },
  {
   "cell_type": "code",
   "execution_count": 18,
   "metadata": {},
   "outputs": [
    {
     "name": "stdout",
     "output_type": "stream",
     "text": [
      "(1022, 10) (219, 10) (219, 10) (1022,) (219,) (219,)\n"
     ]
    }
   ],
   "source": [
    "print(X_train.shape, X_val.shape, X_test.shape, Y_train.shape, Y_val.shape, Y_test.shape)"
   ]
  },
  {
   "cell_type": "markdown",
   "metadata": {},
   "source": [
    "# Building and Training Our First Neural Network"
   ]
  },
  {
   "cell_type": "markdown",
   "metadata": {},
   "source": [
    "We will be using Keras to build our architecture. Let's import the code from Keras that we will need to use:"
   ]
  },
  {
   "cell_type": "code",
   "execution_count": 19,
   "metadata": {},
   "outputs": [
    {
     "name": "stderr",
     "output_type": "stream",
     "text": [
      "Using TensorFlow backend.\n"
     ]
    }
   ],
   "source": [
    "from keras.models import Sequential\n",
    "from keras.layers import Dense"
   ]
  },
  {
   "cell_type": "markdown",
   "metadata": {},
   "source": [
    "We will be using the Sequential model, which means that we merely need to describe the layers above in sequence. Our neural network has three layers:\n",
    "\n",
    "- Hidden layer 1: 30 neurons, ReLU activation\n",
    "- Hidden layer 2: 30 neurons, ReLU activation\n",
    "- Output Layer: 1 neuron, Sigmoid activation"
   ]
  },
  {
   "cell_type": "code",
   "execution_count": 20,
   "metadata": {},
   "outputs": [],
   "source": [
    "model = Sequential([\n",
    "    Dense(32, activation='relu', input_shape=(10,)),\n",
    "    Dense(32, activation='relu'),\n",
    "    Dense(1, activation='sigmoid'),\n",
    "])"
   ]
  },
  {
   "cell_type": "markdown",
   "metadata": {},
   "source": [
    "Now that we've got our architecture specified, we need to find the best numbers for it. Before we start our training, we have to configure the model by\n",
    "- Telling it what algorithm you want to use to do the optimization (we'll use stochastic gradient descent)\n",
    "- Telling it what loss function to use (for binary classification, we will use binary cross entropy)\n",
    "- Telling it what other metrics you want to track apart from the loss function (we want to track accuracy as well)\n",
    "\n",
    "We do so below:"
   ]
  },
  {
   "cell_type": "code",
   "execution_count": 21,
   "metadata": {},
   "outputs": [],
   "source": [
    "model.compile(optimizer='sgd',\n",
    "              loss='binary_crossentropy',\n",
    "              metrics=['accuracy'])"
   ]
  },
  {
   "cell_type": "markdown",
   "metadata": {},
   "source": [
    "Training on the data is pretty straightforward and requires us to write one line of code. The function is called 'fit' as we are fitting the parameters to the data. We specify:\n",
    "- what data we are training on, which is X_train and Y_train\n",
    "- the size of our mini-batch \n",
    "- how long we want to train it for (epochs)\n",
    "- what our validation data is so that the model will tell us how we are doing on the validation data at each point.\n",
    "\n",
    "This function will output a history, which we save under the variable hist. We'll use this variable a little later."
   ]
  },
  {
   "cell_type": "code",
   "execution_count": 22,
   "metadata": {},
   "outputs": [
    {
     "name": "stdout",
     "output_type": "stream",
     "text": [
      "Train on 1022 samples, validate on 219 samples\n",
      "Epoch 1/100\n",
      "1022/1022 [==============================] - 0s 149us/step - loss: 0.6864 - accuracy: 0.5900 - val_loss: 0.6791 - val_accuracy: 0.6941\n",
      "Epoch 2/100\n",
      "1022/1022 [==============================] - 0s 70us/step - loss: 0.6776 - accuracy: 0.6282 - val_loss: 0.6728 - val_accuracy: 0.6621\n",
      "Epoch 3/100\n",
      "1022/1022 [==============================] - 0s 62us/step - loss: 0.6710 - accuracy: 0.6027 - val_loss: 0.6674 - val_accuracy: 0.5982\n",
      "Epoch 4/100\n",
      "1022/1022 [==============================] - 0s 56us/step - loss: 0.6654 - accuracy: 0.5675 - val_loss: 0.6624 - val_accuracy: 0.6027\n",
      "Epoch 5/100\n",
      "1022/1022 [==============================] - 0s 53us/step - loss: 0.6598 - accuracy: 0.5930 - val_loss: 0.6573 - val_accuracy: 0.6073\n",
      "Epoch 6/100\n",
      "1022/1022 [==============================] - 0s 51us/step - loss: 0.6542 - accuracy: 0.5978 - val_loss: 0.6521 - val_accuracy: 0.6530\n",
      "Epoch 7/100\n",
      "1022/1022 [==============================] - 0s 60us/step - loss: 0.6485 - accuracy: 0.6213 - val_loss: 0.6466 - val_accuracy: 0.6895\n",
      "Epoch 8/100\n",
      "1022/1022 [==============================] - 0s 59us/step - loss: 0.6425 - accuracy: 0.7065 - val_loss: 0.6410 - val_accuracy: 0.6849\n",
      "Epoch 9/100\n",
      "1022/1022 [==============================] - 0s 55us/step - loss: 0.6364 - accuracy: 0.6918 - val_loss: 0.6351 - val_accuracy: 0.7123\n",
      "Epoch 10/100\n",
      "1022/1022 [==============================] - 0s 56us/step - loss: 0.6298 - accuracy: 0.7133 - val_loss: 0.6290 - val_accuracy: 0.7169\n",
      "Epoch 11/100\n",
      "1022/1022 [==============================] - 0s 67us/step - loss: 0.6232 - accuracy: 0.7427 - val_loss: 0.6225 - val_accuracy: 0.7306\n",
      "Epoch 12/100\n",
      "1022/1022 [==============================] - 0s 60us/step - loss: 0.6162 - accuracy: 0.7554 - val_loss: 0.6157 - val_accuracy: 0.7580\n",
      "Epoch 13/100\n",
      "1022/1022 [==============================] - 0s 59us/step - loss: 0.6090 - accuracy: 0.7622 - val_loss: 0.6084 - val_accuracy: 0.7626\n",
      "Epoch 14/100\n",
      "1022/1022 [==============================] - 0s 71us/step - loss: 0.6013 - accuracy: 0.7740 - val_loss: 0.6005 - val_accuracy: 0.7671\n",
      "Epoch 15/100\n",
      "1022/1022 [==============================] - 0s 97us/step - loss: 0.5929 - accuracy: 0.7906 - val_loss: 0.5918 - val_accuracy: 0.7763\n",
      "Epoch 16/100\n",
      "1022/1022 [==============================] - 0s 93us/step - loss: 0.5830 - accuracy: 0.8023 - val_loss: 0.5819 - val_accuracy: 0.7854\n",
      "Epoch 17/100\n",
      "1022/1022 [==============================] - 0s 84us/step - loss: 0.5726 - accuracy: 0.8131 - val_loss: 0.5719 - val_accuracy: 0.7991\n",
      "Epoch 18/100\n",
      "1022/1022 [==============================] - 0s 75us/step - loss: 0.5627 - accuracy: 0.8190 - val_loss: 0.5624 - val_accuracy: 0.8082\n",
      "Epoch 19/100\n",
      "1022/1022 [==============================] - 0s 67us/step - loss: 0.5531 - accuracy: 0.8209 - val_loss: 0.5530 - val_accuracy: 0.8082\n",
      "Epoch 20/100\n",
      "1022/1022 [==============================] - 0s 57us/step - loss: 0.5432 - accuracy: 0.8425 - val_loss: 0.5441 - val_accuracy: 0.8082\n",
      "Epoch 21/100\n",
      "1022/1022 [==============================] - 0s 51us/step - loss: 0.5340 - accuracy: 0.8356 - val_loss: 0.5352 - val_accuracy: 0.8128\n",
      "Epoch 22/100\n",
      "1022/1022 [==============================] - 0s 54us/step - loss: 0.5248 - accuracy: 0.8532 - val_loss: 0.5266 - val_accuracy: 0.8128\n",
      "Epoch 23/100\n",
      "1022/1022 [==============================] - 0s 67us/step - loss: 0.5157 - accuracy: 0.8483 - val_loss: 0.5182 - val_accuracy: 0.8128\n",
      "Epoch 24/100\n",
      "1022/1022 [==============================] - 0s 61us/step - loss: 0.5069 - accuracy: 0.8601 - val_loss: 0.5097 - val_accuracy: 0.8174\n",
      "Epoch 25/100\n",
      "1022/1022 [==============================] - 0s 69us/step - loss: 0.4978 - accuracy: 0.8611 - val_loss: 0.5013 - val_accuracy: 0.8265\n",
      "Epoch 26/100\n",
      "1022/1022 [==============================] - 0s 74us/step - loss: 0.4890 - accuracy: 0.8640 - val_loss: 0.4931 - val_accuracy: 0.8265\n",
      "Epoch 27/100\n",
      "1022/1022 [==============================] - 0s 67us/step - loss: 0.4800 - accuracy: 0.8669 - val_loss: 0.4848 - val_accuracy: 0.8265\n",
      "Epoch 28/100\n",
      "1022/1022 [==============================] - 0s 63us/step - loss: 0.4717 - accuracy: 0.8669 - val_loss: 0.4770 - val_accuracy: 0.8311\n",
      "Epoch 29/100\n",
      "1022/1022 [==============================] - 0s 54us/step - loss: 0.4630 - accuracy: 0.8708 - val_loss: 0.4691 - val_accuracy: 0.8311\n",
      "Epoch 30/100\n",
      "1022/1022 [==============================] - 0s 57us/step - loss: 0.4545 - accuracy: 0.8718 - val_loss: 0.4614 - val_accuracy: 0.8311\n",
      "Epoch 31/100\n",
      "1022/1022 [==============================] - 0s 53us/step - loss: 0.4461 - accuracy: 0.8699 - val_loss: 0.4545 - val_accuracy: 0.8447\n",
      "Epoch 32/100\n",
      "1022/1022 [==============================] - 0s 78us/step - loss: 0.4386 - accuracy: 0.8757 - val_loss: 0.4469 - val_accuracy: 0.8356\n",
      "Epoch 33/100\n",
      "1022/1022 [==============================] - 0s 80us/step - loss: 0.4307 - accuracy: 0.8757 - val_loss: 0.4400 - val_accuracy: 0.8356\n",
      "Epoch 34/100\n",
      "1022/1022 [==============================] - 0s 77us/step - loss: 0.4232 - accuracy: 0.8757 - val_loss: 0.4336 - val_accuracy: 0.8402\n",
      "Epoch 35/100\n",
      "1022/1022 [==============================] - 0s 74us/step - loss: 0.4160 - accuracy: 0.8748 - val_loss: 0.4270 - val_accuracy: 0.8356\n",
      "Epoch 36/100\n",
      "1022/1022 [==============================] - 0s 54us/step - loss: 0.4093 - accuracy: 0.8787 - val_loss: 0.4213 - val_accuracy: 0.8402\n",
      "Epoch 37/100\n",
      "1022/1022 [==============================] - 0s 59us/step - loss: 0.4025 - accuracy: 0.8757 - val_loss: 0.4161 - val_accuracy: 0.8402\n",
      "Epoch 38/100\n",
      "1022/1022 [==============================] - 0s 71us/step - loss: 0.3966 - accuracy: 0.8757 - val_loss: 0.4099 - val_accuracy: 0.8356\n",
      "Epoch 39/100\n",
      "1022/1022 [==============================] - 0s 61us/step - loss: 0.3905 - accuracy: 0.8767 - val_loss: 0.4047 - val_accuracy: 0.8402\n",
      "Epoch 40/100\n",
      "1022/1022 [==============================] - 0s 70us/step - loss: 0.3847 - accuracy: 0.8787 - val_loss: 0.4003 - val_accuracy: 0.8356\n",
      "Epoch 41/100\n",
      "1022/1022 [==============================] - 0s 75us/step - loss: 0.3794 - accuracy: 0.8767 - val_loss: 0.3951 - val_accuracy: 0.8311\n",
      "Epoch 42/100\n",
      "1022/1022 [==============================] - 0s 73us/step - loss: 0.3739 - accuracy: 0.8748 - val_loss: 0.3908 - val_accuracy: 0.8356\n",
      "Epoch 43/100\n",
      "1022/1022 [==============================] - 0s 57us/step - loss: 0.3692 - accuracy: 0.8757 - val_loss: 0.3867 - val_accuracy: 0.8311\n",
      "Epoch 44/100\n",
      "1022/1022 [==============================] - 0s 68us/step - loss: 0.3647 - accuracy: 0.8738 - val_loss: 0.3835 - val_accuracy: 0.8402\n",
      "Epoch 45/100\n",
      "1022/1022 [==============================] - 0s 83us/step - loss: 0.3602 - accuracy: 0.8777 - val_loss: 0.3794 - val_accuracy: 0.8356\n",
      "Epoch 46/100\n",
      "1022/1022 [==============================] - 0s 70us/step - loss: 0.3558 - accuracy: 0.8757 - val_loss: 0.3765 - val_accuracy: 0.8356\n",
      "Epoch 47/100\n",
      "1022/1022 [==============================] - 0s 68us/step - loss: 0.3520 - accuracy: 0.8787 - val_loss: 0.3732 - val_accuracy: 0.8356\n",
      "Epoch 48/100\n",
      "1022/1022 [==============================] - 0s 67us/step - loss: 0.3483 - accuracy: 0.8767 - val_loss: 0.3699 - val_accuracy: 0.8356\n",
      "Epoch 49/100\n",
      "1022/1022 [==============================] - 0s 55us/step - loss: 0.3451 - accuracy: 0.8816 - val_loss: 0.3670 - val_accuracy: 0.8356\n",
      "Epoch 50/100\n",
      "1022/1022 [==============================] - 0s 46us/step - loss: 0.3416 - accuracy: 0.8816 - val_loss: 0.3646 - val_accuracy: 0.8356\n",
      "Epoch 51/100\n",
      "1022/1022 [==============================] - 0s 49us/step - loss: 0.3379 - accuracy: 0.8787 - val_loss: 0.3628 - val_accuracy: 0.8356\n",
      "Epoch 52/100\n",
      "1022/1022 [==============================] - 0s 45us/step - loss: 0.3348 - accuracy: 0.8816 - val_loss: 0.3618 - val_accuracy: 0.8447\n",
      "Epoch 53/100\n",
      "1022/1022 [==============================] - 0s 44us/step - loss: 0.3327 - accuracy: 0.8796 - val_loss: 0.3584 - val_accuracy: 0.8356\n",
      "Epoch 54/100\n",
      "1022/1022 [==============================] - 0s 48us/step - loss: 0.3293 - accuracy: 0.8826 - val_loss: 0.3559 - val_accuracy: 0.8356\n",
      "Epoch 55/100\n",
      "1022/1022 [==============================] - 0s 50us/step - loss: 0.3270 - accuracy: 0.8787 - val_loss: 0.3548 - val_accuracy: 0.8311\n",
      "Epoch 56/100\n",
      "1022/1022 [==============================] - 0s 67us/step - loss: 0.3245 - accuracy: 0.8836 - val_loss: 0.3522 - val_accuracy: 0.8311\n",
      "Epoch 57/100\n",
      "1022/1022 [==============================] - 0s 61us/step - loss: 0.3219 - accuracy: 0.8796 - val_loss: 0.3537 - val_accuracy: 0.8402\n",
      "Epoch 58/100\n",
      "1022/1022 [==============================] - 0s 72us/step - loss: 0.3197 - accuracy: 0.8816 - val_loss: 0.3488 - val_accuracy: 0.8311\n",
      "Epoch 59/100\n",
      "1022/1022 [==============================] - 0s 68us/step - loss: 0.3178 - accuracy: 0.8816 - val_loss: 0.3491 - val_accuracy: 0.8356\n",
      "Epoch 60/100\n",
      "1022/1022 [==============================] - 0s 61us/step - loss: 0.3165 - accuracy: 0.8806 - val_loss: 0.3467 - val_accuracy: 0.8356\n",
      "Epoch 61/100\n",
      "1022/1022 [==============================] - 0s 73us/step - loss: 0.3143 - accuracy: 0.8826 - val_loss: 0.3459 - val_accuracy: 0.8311\n",
      "Epoch 62/100\n",
      "1022/1022 [==============================] - 0s 59us/step - loss: 0.3123 - accuracy: 0.8875 - val_loss: 0.3446 - val_accuracy: 0.8311\n",
      "Epoch 63/100\n",
      "1022/1022 [==============================] - 0s 68us/step - loss: 0.3110 - accuracy: 0.8836 - val_loss: 0.3424 - val_accuracy: 0.8356\n",
      "Epoch 64/100\n",
      "1022/1022 [==============================] - 0s 60us/step - loss: 0.3091 - accuracy: 0.8816 - val_loss: 0.3426 - val_accuracy: 0.8356\n",
      "Epoch 65/100\n",
      "1022/1022 [==============================] - 0s 79us/step - loss: 0.3082 - accuracy: 0.8845 - val_loss: 0.3398 - val_accuracy: 0.8356\n",
      "Epoch 66/100\n",
      "1022/1022 [==============================] - 0s 70us/step - loss: 0.3062 - accuracy: 0.8885 - val_loss: 0.3390 - val_accuracy: 0.8311\n",
      "Epoch 67/100\n",
      "1022/1022 [==============================] - 0s 70us/step - loss: 0.3047 - accuracy: 0.8894 - val_loss: 0.3365 - val_accuracy: 0.8402\n",
      "Epoch 68/100\n",
      "1022/1022 [==============================] - 0s 67us/step - loss: 0.3034 - accuracy: 0.8865 - val_loss: 0.3359 - val_accuracy: 0.8402\n",
      "Epoch 69/100\n",
      "1022/1022 [==============================] - 0s 71us/step - loss: 0.3017 - accuracy: 0.8904 - val_loss: 0.3377 - val_accuracy: 0.8356\n",
      "Epoch 70/100\n",
      "1022/1022 [==============================] - 0s 71us/step - loss: 0.3004 - accuracy: 0.8885 - val_loss: 0.3379 - val_accuracy: 0.8356\n",
      "Epoch 71/100\n",
      "1022/1022 [==============================] - 0s 68us/step - loss: 0.2990 - accuracy: 0.8933 - val_loss: 0.3324 - val_accuracy: 0.8402\n",
      "Epoch 72/100\n",
      "1022/1022 [==============================] - 0s 53us/step - loss: 0.2979 - accuracy: 0.8894 - val_loss: 0.3315 - val_accuracy: 0.8402\n",
      "Epoch 73/100\n",
      "1022/1022 [==============================] - 0s 52us/step - loss: 0.2971 - accuracy: 0.8914 - val_loss: 0.3309 - val_accuracy: 0.8447\n",
      "Epoch 74/100\n",
      "1022/1022 [==============================] - 0s 45us/step - loss: 0.2955 - accuracy: 0.8904 - val_loss: 0.3331 - val_accuracy: 0.8356\n",
      "Epoch 75/100\n",
      "1022/1022 [==============================] - 0s 46us/step - loss: 0.2949 - accuracy: 0.8924 - val_loss: 0.3312 - val_accuracy: 0.8311\n",
      "Epoch 76/100\n",
      "1022/1022 [==============================] - 0s 66us/step - loss: 0.2938 - accuracy: 0.8953 - val_loss: 0.3289 - val_accuracy: 0.8356\n",
      "Epoch 77/100\n",
      "1022/1022 [==============================] - 0s 59us/step - loss: 0.2929 - accuracy: 0.8933 - val_loss: 0.3295 - val_accuracy: 0.8311\n",
      "Epoch 78/100\n",
      "1022/1022 [==============================] - 0s 54us/step - loss: 0.2921 - accuracy: 0.8924 - val_loss: 0.3262 - val_accuracy: 0.8493\n",
      "Epoch 79/100\n",
      "1022/1022 [==============================] - 0s 60us/step - loss: 0.2906 - accuracy: 0.8963 - val_loss: 0.3254 - val_accuracy: 0.8493\n",
      "Epoch 80/100\n",
      "1022/1022 [==============================] - 0s 64us/step - loss: 0.2899 - accuracy: 0.8933 - val_loss: 0.3248 - val_accuracy: 0.8493\n",
      "Epoch 81/100\n",
      "1022/1022 [==============================] - 0s 56us/step - loss: 0.2891 - accuracy: 0.8943 - val_loss: 0.3241 - val_accuracy: 0.8493\n",
      "Epoch 82/100\n",
      "1022/1022 [==============================] - 0s 50us/step - loss: 0.2884 - accuracy: 0.8933 - val_loss: 0.3254 - val_accuracy: 0.8265\n",
      "Epoch 83/100\n",
      "1022/1022 [==============================] - 0s 56us/step - loss: 0.2878 - accuracy: 0.8982 - val_loss: 0.3228 - val_accuracy: 0.8447\n",
      "Epoch 84/100\n",
      "1022/1022 [==============================] - 0s 54us/step - loss: 0.2865 - accuracy: 0.8904 - val_loss: 0.3266 - val_accuracy: 0.8402\n",
      "Epoch 85/100\n",
      "1022/1022 [==============================] - 0s 56us/step - loss: 0.2859 - accuracy: 0.8943 - val_loss: 0.3209 - val_accuracy: 0.8493\n",
      "Epoch 86/100\n",
      "1022/1022 [==============================] - 0s 50us/step - loss: 0.2849 - accuracy: 0.8943 - val_loss: 0.3203 - val_accuracy: 0.8493\n",
      "Epoch 87/100\n",
      "1022/1022 [==============================] - 0s 52us/step - loss: 0.2840 - accuracy: 0.8963 - val_loss: 0.3190 - val_accuracy: 0.8493\n",
      "Epoch 88/100\n",
      "1022/1022 [==============================] - 0s 47us/step - loss: 0.2840 - accuracy: 0.8904 - val_loss: 0.3185 - val_accuracy: 0.8493\n",
      "Epoch 89/100\n",
      "1022/1022 [==============================] - 0s 49us/step - loss: 0.2838 - accuracy: 0.8914 - val_loss: 0.3178 - val_accuracy: 0.8493\n",
      "Epoch 90/100\n",
      "1022/1022 [==============================] - 0s 66us/step - loss: 0.2822 - accuracy: 0.8973 - val_loss: 0.3187 - val_accuracy: 0.8447\n",
      "Epoch 91/100\n",
      "1022/1022 [==============================] - 0s 82us/step - loss: 0.2814 - accuracy: 0.8963 - val_loss: 0.3169 - val_accuracy: 0.8447\n",
      "Epoch 92/100\n",
      "1022/1022 [==============================] - 0s 75us/step - loss: 0.2810 - accuracy: 0.8963 - val_loss: 0.3155 - val_accuracy: 0.8493\n",
      "Epoch 93/100\n",
      "1022/1022 [==============================] - 0s 59us/step - loss: 0.2807 - accuracy: 0.8904 - val_loss: 0.3151 - val_accuracy: 0.8493\n",
      "Epoch 94/100\n",
      "1022/1022 [==============================] - 0s 56us/step - loss: 0.2797 - accuracy: 0.8963 - val_loss: 0.3156 - val_accuracy: 0.8493\n",
      "Epoch 95/100\n",
      "1022/1022 [==============================] - 0s 69us/step - loss: 0.2787 - accuracy: 0.8933 - val_loss: 0.3168 - val_accuracy: 0.8447\n",
      "Epoch 96/100\n",
      "1022/1022 [==============================] - 0s 68us/step - loss: 0.2785 - accuracy: 0.8992 - val_loss: 0.3139 - val_accuracy: 0.8539\n",
      "Epoch 97/100\n",
      "1022/1022 [==============================] - 0s 81us/step - loss: 0.2771 - accuracy: 0.8982 - val_loss: 0.3117 - val_accuracy: 0.8493\n",
      "Epoch 98/100\n",
      "1022/1022 [==============================] - 0s 77us/step - loss: 0.2775 - accuracy: 0.8973 - val_loss: 0.3111 - val_accuracy: 0.8493\n",
      "Epoch 99/100\n",
      "1022/1022 [==============================] - 0s 72us/step - loss: 0.2771 - accuracy: 0.8953 - val_loss: 0.3113 - val_accuracy: 0.8539\n",
      "Epoch 100/100\n",
      "1022/1022 [==============================] - 0s 68us/step - loss: 0.2765 - accuracy: 0.8963 - val_loss: 0.3105 - val_accuracy: 0.8539\n"
     ]
    }
   ],
   "source": [
    "hist = model.fit(X_train, Y_train,\n",
    "          batch_size=32, epochs=100,\n",
    "          validation_data=(X_val, Y_val))"
   ]
  },
  {
   "cell_type": "markdown",
   "metadata": {},
   "source": [
    "Evaluating our data on the test set:"
   ]
  },
  {
   "cell_type": "code",
   "execution_count": 23,
   "metadata": {},
   "outputs": [
    {
     "name": "stdout",
     "output_type": "stream",
     "text": [
      "219/219 [==============================] - 0s 55us/step\n"
     ]
    },
    {
     "data": {
      "text/plain": [
       "0.8767123222351074"
      ]
     },
     "execution_count": 23,
     "metadata": {},
     "output_type": "execute_result"
    }
   ],
   "source": [
    "model.evaluate(X_test, Y_test)[1]"
   ]
  },
  {
   "cell_type": "markdown",
   "metadata": {},
   "source": [
    "# Visualizing Loss and Accuracy"
   ]
  },
  {
   "cell_type": "markdown",
   "metadata": {},
   "source": [
    "Import the relevant package we need to do the visualization"
   ]
  },
  {
   "cell_type": "code",
   "execution_count": 24,
   "metadata": {},
   "outputs": [],
   "source": [
    "import matplotlib.pyplot as plt"
   ]
  },
  {
   "cell_type": "markdown",
   "metadata": {},
   "source": [
    "We want to visualize the training loss and the validation loss like this:"
   ]
  },
  {
   "cell_type": "code",
   "execution_count": 25,
   "metadata": {},
   "outputs": [
    {
     "data": {
      "image/png": "[encoded data removed]",
      "text/plain": [
       "<Figure size 432x288 with 1 Axes>"
      ]
     },
     "metadata": {
      "needs_background": "light"
     },
     "output_type": "display_data"
    }
   ],
   "source": [
    "plt.plot(hist.history['loss'])\n",
    "plt.plot(hist.history['val_loss'])\n",
    "plt.title('Model loss')\n",
    "plt.ylabel('Loss')\n",
    "plt.xlabel('Epoch')\n",
    "plt.legend(['Train', 'Val'], loc='upper right')\n",
    "plt.show()"
   ]
  },
  {
   "cell_type": "markdown",
   "metadata": {},
   "source": [
    "We can also visualize the training accuracy and the validation accuracy like this:"
   ]
  },
  {
   "cell_type": "code",
   "execution_count": 26,
   "metadata": {},
   "outputs": [
    {
     "ename": "KeyError",
     "evalue": "'acc'",
     "output_type": "error",
     "traceback": [
      "\u001b[1;31m---------------------------------------------------------------------------\u001b[0m",
      "\u001b[1;31mKeyError\u001b[0m                                  Traceback (most recent call last)",
      "\u001b[1;32m<ipython-input-26-84d24d69b6e4>\u001b[0m in \u001b[0;36m<module>\u001b[1;34m\u001b[0m\n\u001b[1;32m----> 1\u001b[1;33m \u001b[0mplt\u001b[0m\u001b[1;33m.\u001b[0m\u001b[0mplot\u001b[0m\u001b[1;33m(\u001b[0m\u001b[0mhist\u001b[0m\u001b[1;33m.\u001b[0m\u001b[0mhistory\u001b[0m\u001b[1;33m[\u001b[0m\u001b[1;34m'acc'\u001b[0m\u001b[1;33m]\u001b[0m\u001b[1;33m)\u001b[0m\u001b[1;33m\u001b[0m\u001b[1;33m\u001b[0m\u001b[0m\n\u001b[0m\u001b[0;32m      2\u001b[0m \u001b[0mplt\u001b[0m\u001b[1;33m.\u001b[0m\u001b[0mplot\u001b[0m\u001b[1;33m(\u001b[0m\u001b[0mhist\u001b[0m\u001b[1;33m.\u001b[0m\u001b[0mhistory\u001b[0m\u001b[1;33m[\u001b[0m\u001b[1;34m'val_acc'\u001b[0m\u001b[1;33m]\u001b[0m\u001b[1;33m)\u001b[0m\u001b[1;33m\u001b[0m\u001b[1;33m\u001b[0m\u001b[0m\n\u001b[0;32m      3\u001b[0m \u001b[0mplt\u001b[0m\u001b[1;33m.\u001b[0m\u001b[0mtitle\u001b[0m\u001b[1;33m(\u001b[0m\u001b[1;34m'Model accuracy'\u001b[0m\u001b[1;33m)\u001b[0m\u001b[1;33m\u001b[0m\u001b[1;33m\u001b[0m\u001b[0m\n\u001b[0;32m      4\u001b[0m \u001b[0mplt\u001b[0m\u001b[1;33m.\u001b[0m\u001b[0mylabel\u001b[0m\u001b[1;33m(\u001b[0m\u001b[1;34m'Accuracy'\u001b[0m\u001b[1;33m)\u001b[0m\u001b[1;33m\u001b[0m\u001b[1;33m\u001b[0m\u001b[0m\n\u001b[0;32m      5\u001b[0m \u001b[0mplt\u001b[0m\u001b[1;33m.\u001b[0m\u001b[0mxlabel\u001b[0m\u001b[1;33m(\u001b[0m\u001b[1;34m'Epoch'\u001b[0m\u001b[1;33m)\u001b[0m\u001b[1;33m\u001b[0m\u001b[1;33m\u001b[0m\u001b[0m\n",
      "\u001b[1;31mKeyError\u001b[0m: 'acc'"
     ]
    }
   ],
   "source": [
    "plt.plot(hist.history['acc'])\n",
    "plt.plot(hist.history['val_acc'])\n",
    "plt.title('Model accuracy')\n",
    "plt.ylabel('Accuracy')\n",
    "plt.xlabel('Epoch')\n",
    "plt.legend(['Train', 'Val'], loc='lower right')\n",
    "plt.show()"
   ]
  },
  {
   "cell_type": "markdown",
   "metadata": {},
   "source": [
    "# Adding Regularization to our Neural Network"
   ]
  },
  {
   "cell_type": "markdown",
   "metadata": {},
   "source": [
    "We'll train a model which will overfit, which we call Model 2. This might take a few minutes."
   ]
  },
  {
   "cell_type": "code",
   "execution_count": 27,
   "metadata": {},
   "outputs": [
    {
     "name": "stdout",
     "output_type": "stream",
     "text": [
      "Train on 1022 samples, validate on 219 samples\n",
      "Epoch 1/100\n",
      "1022/1022 [==============================] - 2s 2ms/step - loss: 0.4740 - accuracy: 0.7750 - val_loss: 0.3962 - val_accuracy: 0.8265\n",
      "Epoch 2/100\n",
      "1022/1022 [==============================] - 2s 2ms/step - loss: 0.3624 - accuracy: 0.8532 - val_loss: 0.3921 - val_accuracy: 0.8174\n",
      "Epoch 3/100\n",
      "1022/1022 [==============================] - 2s 2ms/step - loss: 0.3328 - accuracy: 0.8728 - val_loss: 0.3912 - val_accuracy: 0.8219\n",
      "Epoch 4/100\n",
      "1022/1022 [==============================] - 2s 2ms/step - loss: 0.2803 - accuracy: 0.8875 - val_loss: 0.3046 - val_accuracy: 0.8630\n",
      "Epoch 5/100\n",
      "1022/1022 [==============================] - 2s 2ms/step - loss: 0.2535 - accuracy: 0.9022 - val_loss: 0.2930 - val_accuracy: 0.8630\n",
      "Epoch 6/100\n",
      "1022/1022 [==============================] - 2s 2ms/step - loss: 0.2451 - accuracy: 0.9022 - val_loss: 0.2839 - val_accuracy: 0.8676\n",
      "Epoch 7/100\n",
      "1022/1022 [==============================] - 2s 2ms/step - loss: 0.2442 - accuracy: 0.8973 - val_loss: 0.3083 - val_accuracy: 0.8676\n",
      "Epoch 8/100\n",
      "1022/1022 [==============================] - 2s 2ms/step - loss: 0.2346 - accuracy: 0.9061 - val_loss: 0.3353 - val_accuracy: 0.8493\n",
      "Epoch 9/100\n",
      "1022/1022 [==============================] - 2s 2ms/step - loss: 0.2460 - accuracy: 0.8943 - val_loss: 0.2706 - val_accuracy: 0.8767\n",
      "Epoch 10/100\n",
      "1022/1022 [==============================] - 2s 2ms/step - loss: 0.2469 - accuracy: 0.9031 - val_loss: 0.2751 - val_accuracy: 0.8721\n",
      "Epoch 11/100\n",
      "1022/1022 [==============================] - 2s 2ms/step - loss: 0.2168 - accuracy: 0.9119 - val_loss: 0.2546 - val_accuracy: 0.8904\n",
      "Epoch 12/100\n",
      "1022/1022 [==============================] - 2s 2ms/step - loss: 0.2157 - accuracy: 0.9110 - val_loss: 0.2708 - val_accuracy: 0.8584\n",
      "Epoch 13/100\n",
      "1022/1022 [==============================] - 2s 2ms/step - loss: 0.2283 - accuracy: 0.9041 - val_loss: 0.2385 - val_accuracy: 0.8721\n",
      "Epoch 14/100\n",
      "1022/1022 [==============================] - 2s 2ms/step - loss: 0.2336 - accuracy: 0.8982 - val_loss: 0.3213 - val_accuracy: 0.8767\n",
      "Epoch 15/100\n",
      "1022/1022 [==============================] - 2s 2ms/step - loss: 0.2176 - accuracy: 0.9090 - val_loss: 0.2571 - val_accuracy: 0.8584\n",
      "Epoch 16/100\n",
      "1022/1022 [==============================] - 2s 2ms/step - loss: 0.2068 - accuracy: 0.9168 - val_loss: 0.2750 - val_accuracy: 0.8676\n",
      "Epoch 17/100\n",
      "1022/1022 [==============================] - 2s 2ms/step - loss: 0.2017 - accuracy: 0.9168 - val_loss: 0.3597 - val_accuracy: 0.8676\n",
      "Epoch 18/100\n",
      "1022/1022 [==============================] - 3s 2ms/step - loss: 0.2250 - accuracy: 0.9080 - val_loss: 0.2839 - val_accuracy: 0.8813\n",
      "Epoch 19/100\n",
      "1022/1022 [==============================] - 2s 2ms/step - loss: 0.2038 - accuracy: 0.9178 - val_loss: 0.2787 - val_accuracy: 0.8858\n",
      "Epoch 20/100\n",
      "1022/1022 [==============================] - 2s 2ms/step - loss: 0.1937 - accuracy: 0.9178 - val_loss: 0.4401 - val_accuracy: 0.8311\n",
      "Epoch 21/100\n",
      "1022/1022 [==============================] - 2s 2ms/step - loss: 0.2106 - accuracy: 0.9159 - val_loss: 0.2912 - val_accuracy: 0.8767\n",
      "Epoch 22/100\n",
      "1022/1022 [==============================] - 2s 2ms/step - loss: 0.2021 - accuracy: 0.9178 - val_loss: 0.2703 - val_accuracy: 0.8630\n",
      "Epoch 23/100\n",
      "1022/1022 [==============================] - 2s 2ms/step - loss: 0.2102 - accuracy: 0.9119 - val_loss: 0.2560 - val_accuracy: 0.9041\n",
      "Epoch 24/100\n",
      "1022/1022 [==============================] - 2s 2ms/step - loss: 0.1783 - accuracy: 0.9247 - val_loss: 0.2694 - val_accuracy: 0.8858\n",
      "Epoch 25/100\n",
      "1022/1022 [==============================] - 2s 2ms/step - loss: 0.1851 - accuracy: 0.9276 - val_loss: 0.2349 - val_accuracy: 0.9041\n",
      "Epoch 26/100\n",
      "1022/1022 [==============================] - 2s 2ms/step - loss: 0.2004 - accuracy: 0.9110 - val_loss: 0.3361 - val_accuracy: 0.8813\n",
      "Epoch 27/100\n",
      "1022/1022 [==============================] - 2s 2ms/step - loss: 0.2008 - accuracy: 0.9168 - val_loss: 0.2958 - val_accuracy: 0.8721\n",
      "Epoch 28/100\n",
      "1022/1022 [==============================] - 2s 2ms/step - loss: 0.1824 - accuracy: 0.9217 - val_loss: 0.2631 - val_accuracy: 0.8767\n",
      "Epoch 29/100\n",
      "1022/1022 [==============================] - 2s 2ms/step - loss: 0.1830 - accuracy: 0.9305 - val_loss: 0.2860 - val_accuracy: 0.8904\n",
      "Epoch 30/100\n",
      "1022/1022 [==============================] - 2s 2ms/step - loss: 0.1672 - accuracy: 0.9315 - val_loss: 0.2662 - val_accuracy: 0.8767\n",
      "Epoch 31/100\n",
      "1022/1022 [==============================] - 2s 2ms/step - loss: 0.1932 - accuracy: 0.9198 - val_loss: 0.2792 - val_accuracy: 0.8676\n",
      "Epoch 32/100\n",
      "1022/1022 [==============================] - 2s 2ms/step - loss: 0.1838 - accuracy: 0.9295 - val_loss: 0.2772 - val_accuracy: 0.8904\n",
      "Epoch 33/100\n",
      "1022/1022 [==============================] - 2s 2ms/step - loss: 0.1719 - accuracy: 0.9325 - val_loss: 0.2643 - val_accuracy: 0.8858\n",
      "Epoch 34/100\n",
      "1022/1022 [==============================] - 2s 2ms/step - loss: 0.1890 - accuracy: 0.9276 - val_loss: 0.3115 - val_accuracy: 0.8676\n",
      "Epoch 35/100\n",
      "1022/1022 [==============================] - 2s 2ms/step - loss: 0.2244 - accuracy: 0.9031 - val_loss: 0.2411 - val_accuracy: 0.8813\n",
      "Epoch 36/100\n",
      "1022/1022 [==============================] - 2s 2ms/step - loss: 0.1735 - accuracy: 0.9295 - val_loss: 0.2298 - val_accuracy: 0.8721\n",
      "Epoch 37/100\n",
      "1022/1022 [==============================] - 2s 2ms/step - loss: 0.1829 - accuracy: 0.9237 - val_loss: 0.2656 - val_accuracy: 0.8858\n",
      "Epoch 38/100\n",
      "1022/1022 [==============================] - 2s 2ms/step - loss: 0.1636 - accuracy: 0.9305 - val_loss: 0.2658 - val_accuracy: 0.8813\n",
      "Epoch 39/100\n",
      "1022/1022 [==============================] - 2s 2ms/step - loss: 0.1713 - accuracy: 0.9227 - val_loss: 0.2619 - val_accuracy: 0.8630\n",
      "Epoch 40/100\n",
      "1022/1022 [==============================] - 2s 2ms/step - loss: 0.1977 - accuracy: 0.9198 - val_loss: 0.2584 - val_accuracy: 0.8858\n",
      "Epoch 41/100\n",
      "1022/1022 [==============================] - 2s 2ms/step - loss: 0.1550 - accuracy: 0.9403 - val_loss: 0.2536 - val_accuracy: 0.8813\n",
      "Epoch 42/100\n",
      "1022/1022 [==============================] - 2s 2ms/step - loss: 0.1519 - accuracy: 0.9354 - val_loss: 0.3051 - val_accuracy: 0.8995\n",
      "Epoch 43/100\n",
      "1022/1022 [==============================] - 2s 2ms/step - loss: 0.1699 - accuracy: 0.9266 - val_loss: 0.2547 - val_accuracy: 0.8813\n",
      "Epoch 44/100\n",
      "1022/1022 [==============================] - 2s 2ms/step - loss: 0.1863 - accuracy: 0.9295 - val_loss: 0.2712 - val_accuracy: 0.8904\n",
      "Epoch 45/100\n",
      "1022/1022 [==============================] - 2s 2ms/step - loss: 0.1610 - accuracy: 0.9315 - val_loss: 0.2512 - val_accuracy: 0.8767\n",
      "Epoch 46/100\n",
      "1022/1022 [==============================] - 2s 2ms/step - loss: 0.1435 - accuracy: 0.9442 - val_loss: 0.3366 - val_accuracy: 0.8767\n",
      "Epoch 47/100\n",
      "1022/1022 [==============================] - 2s 2ms/step - loss: 0.1722 - accuracy: 0.9364 - val_loss: 0.2939 - val_accuracy: 0.8630\n",
      "Epoch 48/100\n",
      "1022/1022 [==============================] - 2s 2ms/step - loss: 0.2027 - accuracy: 0.9207 - val_loss: 0.2808 - val_accuracy: 0.8858\n",
      "Epoch 49/100\n",
      "1022/1022 [==============================] - 2s 2ms/step - loss: 0.1736 - accuracy: 0.9305 - val_loss: 0.2599 - val_accuracy: 0.9041\n",
      "Epoch 50/100\n",
      "1022/1022 [==============================] - 2s 2ms/step - loss: 0.1684 - accuracy: 0.9276 - val_loss: 0.2907 - val_accuracy: 0.8721\n",
      "Epoch 51/100\n",
      "1022/1022 [==============================] - 2s 2ms/step - loss: 0.1551 - accuracy: 0.9354 - val_loss: 0.2830 - val_accuracy: 0.8767\n",
      "Epoch 52/100\n",
      "1022/1022 [==============================] - 2s 2ms/step - loss: 0.1637 - accuracy: 0.9354 - val_loss: 0.2603 - val_accuracy: 0.8721\n",
      "Epoch 53/100\n",
      "1022/1022 [==============================] - 2s 2ms/step - loss: 0.1450 - accuracy: 0.9354 - val_loss: 0.3100 - val_accuracy: 0.8721\n",
      "Epoch 54/100\n",
      "1022/1022 [==============================] - 2s 2ms/step - loss: 0.1578 - accuracy: 0.9364 - val_loss: 0.2968 - val_accuracy: 0.8721\n",
      "Epoch 55/100\n",
      "1022/1022 [==============================] - 2s 2ms/step - loss: 0.1535 - accuracy: 0.9354 - val_loss: 0.3847 - val_accuracy: 0.8904\n",
      "Epoch 56/100\n",
      "1022/1022 [==============================] - 2s 2ms/step - loss: 0.1510 - accuracy: 0.9423 - val_loss: 0.3069 - val_accuracy: 0.8721\n"
     ]
    },
    {
     "name": "stdout",
     "output_type": "stream",
     "text": [
      "Epoch 57/100\n",
      "1022/1022 [==============================] - 2s 2ms/step - loss: 0.1434 - accuracy: 0.9403 - val_loss: 0.2471 - val_accuracy: 0.8767\n",
      "Epoch 58/100\n",
      "1022/1022 [==============================] - 2s 2ms/step - loss: 0.1252 - accuracy: 0.9491 - val_loss: 0.2850 - val_accuracy: 0.8767\n",
      "Epoch 59/100\n",
      "1022/1022 [==============================] - 2s 2ms/step - loss: 0.1513 - accuracy: 0.9384 - val_loss: 0.3008 - val_accuracy: 0.8630\n",
      "Epoch 60/100\n",
      "1022/1022 [==============================] - 2s 2ms/step - loss: 0.1631 - accuracy: 0.9344 - val_loss: 0.2833 - val_accuracy: 0.8676\n",
      "Epoch 61/100\n",
      "1022/1022 [==============================] - 2s 2ms/step - loss: 0.1559 - accuracy: 0.9462 - val_loss: 0.3680 - val_accuracy: 0.8767\n",
      "Epoch 62/100\n",
      "1022/1022 [==============================] - 2s 2ms/step - loss: 0.1360 - accuracy: 0.9442 - val_loss: 0.3069 - val_accuracy: 0.8721\n",
      "Epoch 63/100\n",
      "1022/1022 [==============================] - 2s 2ms/step - loss: 0.1236 - accuracy: 0.9501 - val_loss: 0.3510 - val_accuracy: 0.8584\n",
      "Epoch 64/100\n",
      "1022/1022 [==============================] - 2s 2ms/step - loss: 0.1293 - accuracy: 0.9481 - val_loss: 0.3218 - val_accuracy: 0.8721\n",
      "Epoch 65/100\n",
      "1022/1022 [==============================] - 2s 2ms/step - loss: 0.1310 - accuracy: 0.9481 - val_loss: 0.2684 - val_accuracy: 0.8904\n",
      "Epoch 66/100\n",
      "1022/1022 [==============================] - 2s 2ms/step - loss: 0.1283 - accuracy: 0.9442 - val_loss: 0.2735 - val_accuracy: 0.8493\n",
      "Epoch 67/100\n",
      "1022/1022 [==============================] - 2s 2ms/step - loss: 0.1313 - accuracy: 0.9472 - val_loss: 0.3197 - val_accuracy: 0.8813\n",
      "Epoch 68/100\n",
      "1022/1022 [==============================] - 2s 2ms/step - loss: 0.1230 - accuracy: 0.9521 - val_loss: 0.3682 - val_accuracy: 0.8721\n",
      "Epoch 69/100\n",
      "1022/1022 [==============================] - 2s 2ms/step - loss: 0.1397 - accuracy: 0.9462 - val_loss: 0.3754 - val_accuracy: 0.8356\n",
      "Epoch 70/100\n",
      "1022/1022 [==============================] - 2s 2ms/step - loss: 0.1276 - accuracy: 0.9462 - val_loss: 0.2850 - val_accuracy: 0.8904\n",
      "Epoch 71/100\n",
      "1022/1022 [==============================] - 2s 2ms/step - loss: 0.1228 - accuracy: 0.9569 - val_loss: 0.3483 - val_accuracy: 0.8858\n",
      "Epoch 72/100\n",
      "1022/1022 [==============================] - 2s 2ms/step - loss: 0.1361 - accuracy: 0.9472 - val_loss: 0.3296 - val_accuracy: 0.8904\n",
      "Epoch 73/100\n",
      "1022/1022 [==============================] - 2s 2ms/step - loss: 0.1256 - accuracy: 0.9511 - val_loss: 0.4177 - val_accuracy: 0.8584\n",
      "Epoch 74/100\n",
      "1022/1022 [==============================] - 2s 2ms/step - loss: 0.1362 - accuracy: 0.9501 - val_loss: 0.3525 - val_accuracy: 0.8858\n",
      "Epoch 75/100\n",
      "1022/1022 [==============================] - 2s 2ms/step - loss: 0.1309 - accuracy: 0.9462 - val_loss: 0.3657 - val_accuracy: 0.8676\n",
      "Epoch 76/100\n",
      "1022/1022 [==============================] - 2s 2ms/step - loss: 0.1154 - accuracy: 0.9530 - val_loss: 0.3535 - val_accuracy: 0.8767\n",
      "Epoch 77/100\n",
      "1022/1022 [==============================] - 2s 2ms/step - loss: 0.1139 - accuracy: 0.9530 - val_loss: 0.4066 - val_accuracy: 0.8813\n",
      "Epoch 78/100\n",
      "1022/1022 [==============================] - 2s 2ms/step - loss: 0.1307 - accuracy: 0.9481 - val_loss: 0.3641 - val_accuracy: 0.8676\n",
      "Epoch 79/100\n",
      "1022/1022 [==============================] - 2s 2ms/step - loss: 0.1406 - accuracy: 0.9413 - val_loss: 0.6915 - val_accuracy: 0.8265\n",
      "Epoch 80/100\n",
      "1022/1022 [==============================] - 3s 3ms/step - loss: 0.1443 - accuracy: 0.9462 - val_loss: 0.3197 - val_accuracy: 0.8721\n",
      "Epoch 81/100\n",
      "1022/1022 [==============================] - 3s 3ms/step - loss: 0.1068 - accuracy: 0.9599 - val_loss: 0.3972 - val_accuracy: 0.8721\n",
      "Epoch 82/100\n",
      "1022/1022 [==============================] - 3s 3ms/step - loss: 0.1166 - accuracy: 0.9569 - val_loss: 0.2932 - val_accuracy: 0.8950\n",
      "Epoch 83/100\n",
      "1022/1022 [==============================] - 3s 2ms/step - loss: 0.1019 - accuracy: 0.9589 - val_loss: 0.4178 - val_accuracy: 0.8721\n",
      "Epoch 84/100\n",
      "1022/1022 [==============================] - 3s 3ms/step - loss: 0.1111 - accuracy: 0.9540 - val_loss: 0.3688 - val_accuracy: 0.8813\n",
      "Epoch 85/100\n",
      "1022/1022 [==============================] - 2s 2ms/step - loss: 0.1289 - accuracy: 0.9462 - val_loss: 0.2780 - val_accuracy: 0.8767\n",
      "Epoch 86/100\n",
      "1022/1022 [==============================] - 2s 2ms/step - loss: 0.1166 - accuracy: 0.9560 - val_loss: 0.3545 - val_accuracy: 0.8813\n",
      "Epoch 87/100\n",
      "1022/1022 [==============================] - 2s 2ms/step - loss: 0.1002 - accuracy: 0.9599 - val_loss: 0.3908 - val_accuracy: 0.8950\n",
      "Epoch 88/100\n",
      "1022/1022 [==============================] - 3s 3ms/step - loss: 0.1021 - accuracy: 0.9589 - val_loss: 0.4055 - val_accuracy: 0.8630\n",
      "Epoch 89/100\n",
      "1022/1022 [==============================] - 2s 2ms/step - loss: 0.1081 - accuracy: 0.9618 - val_loss: 0.4078 - val_accuracy: 0.8584\n",
      "Epoch 90/100\n",
      "1022/1022 [==============================] - 2s 2ms/step - loss: 0.0974 - accuracy: 0.9550 - val_loss: 0.5487 - val_accuracy: 0.8721\n",
      "Epoch 91/100\n",
      "1022/1022 [==============================] - 2s 2ms/step - loss: 0.1393 - accuracy: 0.9423 - val_loss: 0.3379 - val_accuracy: 0.8767\n",
      "Epoch 92/100\n",
      "1022/1022 [==============================] - 2s 2ms/step - loss: 0.0971 - accuracy: 0.9638 - val_loss: 0.4437 - val_accuracy: 0.8858\n",
      "Epoch 93/100\n",
      "1022/1022 [==============================] - 2s 2ms/step - loss: 0.0840 - accuracy: 0.9638 - val_loss: 0.4721 - val_accuracy: 0.8676\n",
      "Epoch 94/100\n",
      "1022/1022 [==============================] - 2s 2ms/step - loss: 0.0961 - accuracy: 0.9658 - val_loss: 0.4251 - val_accuracy: 0.8813\n",
      "Epoch 95/100\n",
      "1022/1022 [==============================] - 3s 2ms/step - loss: 0.1021 - accuracy: 0.9638 - val_loss: 0.4596 - val_accuracy: 0.8813\n",
      "Epoch 96/100\n",
      "1022/1022 [==============================] - 2s 2ms/step - loss: 0.1341 - accuracy: 0.9560 - val_loss: 0.3907 - val_accuracy: 0.8584\n",
      "Epoch 97/100\n",
      "1022/1022 [==============================] - 2s 2ms/step - loss: 0.1298 - accuracy: 0.9491 - val_loss: 0.4140 - val_accuracy: 0.8767\n",
      "Epoch 98/100\n",
      "1022/1022 [==============================] - 2s 2ms/step - loss: 0.1061 - accuracy: 0.9599 - val_loss: 0.4306 - val_accuracy: 0.8721\n",
      "Epoch 99/100\n",
      "1022/1022 [==============================] - 2s 2ms/step - loss: 0.1230 - accuracy: 0.9521 - val_loss: 0.3443 - val_accuracy: 0.8813\n",
      "Epoch 100/100\n",
      "1022/1022 [==============================] - 2s 2ms/step - loss: 0.0903 - accuracy: 0.9638 - val_loss: 0.5502 - val_accuracy: 0.8539\n"
     ]
    }
   ],
   "source": [
    "model_2 = Sequential([\n",
    "    Dense(1000, activation='relu', input_shape=(10,)),\n",
    "    Dense(1000, activation='relu'),\n",
    "    Dense(1000, activation='relu'),\n",
    "    Dense(1000, activation='relu'),\n",
    "    Dense(1, activation='sigmoid'),\n",
    "])\n",
    "model_2.compile(optimizer='adam',\n",
    "              loss='binary_crossentropy',\n",
    "              metrics=['accuracy'])\n",
    "hist_2 = model_2.fit(X_train, Y_train,\n",
    "          batch_size=32, epochs=100,\n",
    "          validation_data=(X_val, Y_val))"
   ]
  },
  {
   "cell_type": "markdown",
   "metadata": {},
   "source": [
    "Let's do the same visualization to see what overfitting looks like in terms of the loss and accuracy."
   ]
  },
  {
   "cell_type": "code",
   "execution_count": 28,
   "metadata": {},
   "outputs": [
    {
     "data": {
      "image/png": "[encoded data removed]",
      "text/plain": [
       "<Figure size 432x288 with 1 Axes>"
      ]
     },
     "metadata": {
      "needs_background": "light"
     },
     "output_type": "display_data"
    }
   ],
   "source": [
    "plt.plot(hist_2.history['loss'])\n",
    "plt.plot(hist_2.history['val_loss'])\n",
    "plt.title('Model loss')\n",
    "plt.ylabel('Loss')\n",
    "plt.xlabel('Epoch')\n",
    "plt.legend(['Train', 'Val'], loc='upper right')\n",
    "plt.show()"
   ]
  },
  {
   "cell_type": "code",
   "execution_count": 29,
   "metadata": {},
   "outputs": [
    {
     "ename": "KeyError",
     "evalue": "'acc'",
     "output_type": "error",
     "traceback": [
      "\u001b[1;31m---------------------------------------------------------------------------\u001b[0m",
      "\u001b[1;31mKeyError\u001b[0m                                  Traceback (most recent call last)",
      "\u001b[1;32m<ipython-input-29-785eb7910c56>\u001b[0m in \u001b[0;36m<module>\u001b[1;34m\u001b[0m\n\u001b[1;32m----> 1\u001b[1;33m \u001b[0mplt\u001b[0m\u001b[1;33m.\u001b[0m\u001b[0mplot\u001b[0m\u001b[1;33m(\u001b[0m\u001b[0mhist_2\u001b[0m\u001b[1;33m.\u001b[0m\u001b[0mhistory\u001b[0m\u001b[1;33m[\u001b[0m\u001b[1;34m'acc'\u001b[0m\u001b[1;33m]\u001b[0m\u001b[1;33m)\u001b[0m\u001b[1;33m\u001b[0m\u001b[1;33m\u001b[0m\u001b[0m\n\u001b[0m\u001b[0;32m      2\u001b[0m \u001b[0mplt\u001b[0m\u001b[1;33m.\u001b[0m\u001b[0mplot\u001b[0m\u001b[1;33m(\u001b[0m\u001b[0mhist_2\u001b[0m\u001b[1;33m.\u001b[0m\u001b[0mhistory\u001b[0m\u001b[1;33m[\u001b[0m\u001b[1;34m'val_acc'\u001b[0m\u001b[1;33m]\u001b[0m\u001b[1;33m)\u001b[0m\u001b[1;33m\u001b[0m\u001b[1;33m\u001b[0m\u001b[0m\n\u001b[0;32m      3\u001b[0m \u001b[0mplt\u001b[0m\u001b[1;33m.\u001b[0m\u001b[0mtitle\u001b[0m\u001b[1;33m(\u001b[0m\u001b[1;34m'Model accuracy'\u001b[0m\u001b[1;33m)\u001b[0m\u001b[1;33m\u001b[0m\u001b[1;33m\u001b[0m\u001b[0m\n\u001b[0;32m      4\u001b[0m \u001b[0mplt\u001b[0m\u001b[1;33m.\u001b[0m\u001b[0mylabel\u001b[0m\u001b[1;33m(\u001b[0m\u001b[1;34m'Accuracy'\u001b[0m\u001b[1;33m)\u001b[0m\u001b[1;33m\u001b[0m\u001b[1;33m\u001b[0m\u001b[0m\n\u001b[0;32m      5\u001b[0m \u001b[0mplt\u001b[0m\u001b[1;33m.\u001b[0m\u001b[0mxlabel\u001b[0m\u001b[1;33m(\u001b[0m\u001b[1;34m'Epoch'\u001b[0m\u001b[1;33m)\u001b[0m\u001b[1;33m\u001b[0m\u001b[1;33m\u001b[0m\u001b[0m\n",
      "\u001b[1;31mKeyError\u001b[0m: 'acc'"
     ]
    }
   ],
   "source": [
    "plt.plot(hist_2.history['acc'])\n",
    "plt.plot(hist_2.history['val_acc'])\n",
    "plt.title('Model accuracy')\n",
    "plt.ylabel('Accuracy')\n",
    "plt.xlabel('Epoch')\n",
    "plt.legend(['Train', 'Val'], loc='lower right')\n",
    "plt.show()"
   ]
  },
  {
   "cell_type": "markdown",
   "metadata": {},
   "source": [
    "To address the overfitting we see in Model 2, we'll incorporate L2 regularization and dropout in our third model here (Model 3)."
   ]
  },
  {
   "cell_type": "code",
   "execution_count": 30,
   "metadata": {},
   "outputs": [],
   "source": [
    "from keras.layers import Dropout\n",
    "from keras import regularizers"
   ]
  },
  {
   "cell_type": "code",
   "execution_count": 31,
   "metadata": {},
   "outputs": [],
   "source": [
    "model_3 = Sequential([\n",
    "    Dense(1000, activation='relu', kernel_regularizer=regularizers.l2(0.01), input_shape=(10,)),\n",
    "    Dropout(0.3),\n",
    "    Dense(1000, activation='relu', kernel_regularizer=regularizers.l2(0.01)),\n",
    "    Dropout(0.3),\n",
    "    Dense(1000, activation='relu', kernel_regularizer=regularizers.l2(0.01)),\n",
    "    Dropout(0.3),\n",
    "    Dense(1000, activation='relu', kernel_regularizer=regularizers.l2(0.01)),\n",
    "    Dropout(0.3),\n",
    "    Dense(1, activation='sigmoid', kernel_regularizer=regularizers.l2(0.01)),\n",
    "])"
   ]
  },
  {
   "cell_type": "code",
   "execution_count": 32,
   "metadata": {},
   "outputs": [
    {
     "name": "stdout",
     "output_type": "stream",
     "text": [
      "Train on 1022 samples, validate on 219 samples\n",
      "Epoch 1/10\n",
      "1022/1022 [==============================] - 3s 3ms/step - loss: 14.7199 - accuracy: 0.5871 - val_loss: 4.0601 - val_accuracy: 0.7443\n",
      "Epoch 2/10\n",
      "1022/1022 [==============================] - 2s 2ms/step - loss: 1.7300 - accuracy: 0.8200 - val_loss: 0.6952 - val_accuracy: 0.8356\n",
      "Epoch 3/10\n",
      "1022/1022 [==============================] - 2s 2ms/step - loss: 0.5883 - accuracy: 0.8513 - val_loss: 0.5501 - val_accuracy: 0.8493\n",
      "Epoch 4/10\n",
      "1022/1022 [==============================] - 3s 2ms/step - loss: 0.5046 - accuracy: 0.8757 - val_loss: 0.5024 - val_accuracy: 0.8493\n",
      "Epoch 5/10\n",
      "1022/1022 [==============================] - 3s 2ms/step - loss: 0.4807 - accuracy: 0.8953 - val_loss: 0.4945 - val_accuracy: 0.8584\n",
      "Epoch 6/10\n",
      "1022/1022 [==============================] - 3s 3ms/step - loss: 0.4824 - accuracy: 0.8806 - val_loss: 0.4845 - val_accuracy: 0.8493\n",
      "Epoch 7/10\n",
      "1022/1022 [==============================] - 3s 3ms/step - loss: 0.4611 - accuracy: 0.8826 - val_loss: 0.4840 - val_accuracy: 0.8539\n",
      "Epoch 8/10\n",
      "1022/1022 [==============================] - 3s 2ms/step - loss: 0.4691 - accuracy: 0.8787 - val_loss: 0.4863 - val_accuracy: 0.8447\n",
      "Epoch 9/10\n",
      "1022/1022 [==============================] - 3s 3ms/step - loss: 0.4613 - accuracy: 0.8826 - val_loss: 0.4621 - val_accuracy: 0.8630\n",
      "Epoch 10/10\n",
      "1022/1022 [==============================] - 3s 2ms/step - loss: 0.4645 - accuracy: 0.8816 - val_loss: 0.5608 - val_accuracy: 0.8174\n"
     ]
    }
   ],
   "source": [
    "model_3.compile(optimizer='adam',\n",
    "              loss='binary_crossentropy',\n",
    "              metrics=['accuracy'])\n",
    "hist_3 = model_3.fit(X_train, Y_train,\n",
    "          batch_size=32, epochs=10,\n",
    "          validation_data=(X_val, Y_val))"
   ]
  },
  {
   "cell_type": "markdown",
   "metadata": {},
   "source": [
    "We'll now plot the loss and accuracy graphs for Model 3. You'll notice that the loss is a lot higher at the start, and that's because we've changed our loss function. To plot such that the window is zoomed in between 0 and 1.2 for the loss, we add an additional line of code (plt.ylim) when plotting"
   ]
  },
  {
   "cell_type": "code",
   "execution_count": 33,
   "metadata": {},
   "outputs": [
    {
     "data": {
      "image/png": "[encoded data removed]",
      "text/plain": [
       "<Figure size 432x288 with 1 Axes>"
      ]
     },
     "metadata": {
      "needs_background": "light"
     },
     "output_type": "display_data"
    }
   ],
   "source": [
    "plt.plot(hist_3.history['loss'])\n",
    "plt.plot(hist_3.history['val_loss'])\n",
    "plt.title('Model loss')\n",
    "plt.ylabel('Loss')\n",
    "plt.xlabel('Epoch')\n",
    "plt.legend(['Train', 'Val'], loc='upper right')\n",
    "plt.ylim(top=1.2, bottom=0)\n",
    "plt.show()"
   ]
  },
  {
   "cell_type": "code",
   "execution_count": 34,
   "metadata": {},
   "outputs": [
    {
     "ename": "KeyError",
     "evalue": "'acc'",
     "output_type": "error",
     "traceback": [
      "\u001b[1;31m---------------------------------------------------------------------------\u001b[0m",
      "\u001b[1;31mKeyError\u001b[0m                                  Traceback (most recent call last)",
      "\u001b[1;32m<ipython-input-34-93e058a6a8fe>\u001b[0m in \u001b[0;36m<module>\u001b[1;34m\u001b[0m\n\u001b[1;32m----> 1\u001b[1;33m \u001b[0mplt\u001b[0m\u001b[1;33m.\u001b[0m\u001b[0mplot\u001b[0m\u001b[1;33m(\u001b[0m\u001b[0mhist_3\u001b[0m\u001b[1;33m.\u001b[0m\u001b[0mhistory\u001b[0m\u001b[1;33m[\u001b[0m\u001b[1;34m'acc'\u001b[0m\u001b[1;33m]\u001b[0m\u001b[1;33m)\u001b[0m\u001b[1;33m\u001b[0m\u001b[1;33m\u001b[0m\u001b[0m\n\u001b[0m\u001b[0;32m      2\u001b[0m \u001b[0mplt\u001b[0m\u001b[1;33m.\u001b[0m\u001b[0mplot\u001b[0m\u001b[1;33m(\u001b[0m\u001b[0mhist_3\u001b[0m\u001b[1;33m.\u001b[0m\u001b[0mhistory\u001b[0m\u001b[1;33m[\u001b[0m\u001b[1;34m'val_acc'\u001b[0m\u001b[1;33m]\u001b[0m\u001b[1;33m)\u001b[0m\u001b[1;33m\u001b[0m\u001b[1;33m\u001b[0m\u001b[0m\n\u001b[0;32m      3\u001b[0m \u001b[0mplt\u001b[0m\u001b[1;33m.\u001b[0m\u001b[0mtitle\u001b[0m\u001b[1;33m(\u001b[0m\u001b[1;34m'Model accuracy'\u001b[0m\u001b[1;33m)\u001b[0m\u001b[1;33m\u001b[0m\u001b[1;33m\u001b[0m\u001b[0m\n\u001b[0;32m      4\u001b[0m \u001b[0mplt\u001b[0m\u001b[1;33m.\u001b[0m\u001b[0mylabel\u001b[0m\u001b[1;33m(\u001b[0m\u001b[1;34m'Accuracy'\u001b[0m\u001b[1;33m)\u001b[0m\u001b[1;33m\u001b[0m\u001b[1;33m\u001b[0m\u001b[0m\n\u001b[0;32m      5\u001b[0m \u001b[0mplt\u001b[0m\u001b[1;33m.\u001b[0m\u001b[0mxlabel\u001b[0m\u001b[1;33m(\u001b[0m\u001b[1;34m'Epoch'\u001b[0m\u001b[1;33m)\u001b[0m\u001b[1;33m\u001b[0m\u001b[1;33m\u001b[0m\u001b[0m\n",
      "\u001b[1;31mKeyError\u001b[0m: 'acc'"
     ]
    }
   ],
   "source": [
    "plt.plot(hist_3.history['acc'])\n",
    "plt.plot(hist_3.history['val_acc'])\n",
    "plt.title('Model accuracy')\n",
    "plt.ylabel('Accuracy')\n",
    "plt.xlabel('Epoch')\n",
    "plt.legend(['Train', 'Val'], loc='lower right')\n",
    "plt.show()"
   ]
  },
  {
   "cell_type": "markdown",
   "metadata": {},
   "source": [
    "As compared to Model 2, you should see that there's less overfitting!"
   ]
  }
 ],
 "metadata": {
  "kernelspec": {
   "display_name": "mitskernel",
   "language": "python",
   "name": "mitskernel"
  },
  "language_info": {
   "codemirror_mode": {
    "name": "ipython",
    "version": 3
   },
   "file_extension": ".py",
   "mimetype": "text/x-python",
   "name": "python",
   "nbconvert_exporter": "python",
   "pygments_lexer": "ipython3",
   "version": "3.6.7"
  }
 },
 "nbformat": 4,
 "nbformat_minor": 2
}
